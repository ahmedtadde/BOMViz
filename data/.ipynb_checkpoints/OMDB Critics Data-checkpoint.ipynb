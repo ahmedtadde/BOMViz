{
 "cells": [
  {
   "cell_type": "code",
   "execution_count": 1,
   "metadata": {},
   "outputs": [
    {
     "name": "stdout",
     "output_type": "stream",
     "text": [
      "Requirement already satisfied: omdb in c:\\users\\temp_atadde\\appdata\\local\\continuum\\anaconda2\\lib\\site-packages\n",
      "Requirement already satisfied: requests>=2.0.1 in c:\\users\\temp_atadde\\appdata\\local\\continuum\\anaconda2\\lib\\site-packages (from omdb)\n"
     ]
    }
   ],
   "source": [
    "!pip install omdb"
   ]
  },
  {
   "cell_type": "code",
   "execution_count": 2,
   "metadata": {
    "collapsed": true
   },
   "outputs": [],
   "source": [
    "import omdb\n",
    "\n",
    "import warnings\n",
    "warnings.filterwarnings('ignore')\n",
    "\n",
    "import json\n",
    "import numpy as np\n",
    "import pandas as pd\n",
    "\n",
    "from joblib import Parallel, delayed  \n",
    "import multiprocessing\n",
    "num_cores = multiprocessing.cpu_count()"
   ]
  },
  {
   "cell_type": "code",
   "execution_count": 2,
   "metadata": {
    "collapsed": true
   },
   "outputs": [],
   "source": [
    "def getOMDBdata(title):\n",
    "    if title == 'Moonlight (2016)':\n",
    "        data = omdb.get(title='Moonlight', fullplot=True, tomatoes=True)\n",
    "    elif title == \"Kramer Vs. Kramer\":\n",
    "        data = omdb.get(title='Kramer Vs Kramer', fullplot=True, tomatoes=True)\n",
    "    else:\n",
    "        data = omdb.get(title=title, fullplot=True, tomatoes=True)\n",
    "    \n",
    "    collect = {}\n",
    "    collect['awards'] = data['awards']\n",
    "    collect['imdb_rating'] = data['imdb_rating'] \n",
    "    collect['metascore'] = data['metascore']\n",
    "    collect['plot'] = data['plot']\n",
    "    collect['RT_consensus'] = data['tomato_consensus']\n",
    "    collect['RT_perc'] = data['tomato_meter']\n",
    "    collect['RT_rating'] = data['tomato_rating']\n",
    "    collect['RT_audience_perc'] = data['tomato_user_meter']\n",
    "    collect['RT_audience_rating'] = data['tomato_user_rating']\n",
    "    \n",
    "    return collect\n",
    "    "
   ]
  },
  {
   "cell_type": "code",
   "execution_count": 3,
   "metadata": {},
   "outputs": [],
   "source": [
    "# oscars = np.array((pd.read_csv(\"oscars.csv\"))['MOVIE'])\n",
    "# oscars"
   ]
  },
  {
   "cell_type": "code",
   "execution_count": 4,
   "metadata": {
    "collapsed": true
   },
   "outputs": [],
   "source": [
    "oscars = ['Moonlight (2016)', 'Spotlight', 'Birdman', '12 Years a Slave',\n",
    "       'Argo', 'The Artist', \"The King's Speech\", 'The Hurt Locker',\n",
    "       'Slumdog Millionaire', 'No Country for Old Men', 'The Departed',\n",
    "       'Crash', 'Million Dollar Baby',\n",
    "       'The Lord of the Rings: The Return of the King', 'Chicago',\n",
    "       'A Beautiful Mind', 'Gladiator', 'American Beauty',\n",
    "       'Shakespeare in Love', 'Titanic', 'The English Patient',\n",
    "       'Braveheart', 'Forrest Gump', \"Schindler's List\", 'Unforgiven',\n",
    "       'The Silence of the Lambs', 'Dances with Wolves',\n",
    "       'Driving Miss Daisy', 'Rain Man', 'The Last Emperor', 'Platoon',\n",
    "       'Out of Africa', 'Amadeus', 'Terms of Endearment', 'Gandhi',\n",
    "       'Chariots of Fire', 'Ordinary People', 'Kramer Vs. Kramer',\n",
    "       'The Deer Hunter']"
   ]
  },
  {
   "cell_type": "code",
   "execution_count": null,
   "metadata": {
    "collapsed": true
   },
   "outputs": [],
   "source": [
    "# %%capture\n",
    "\n",
    "oscars = [getOMDBdata(title) for title in oscars]\n",
    "# oscars = Parallel(n_jobs=num_cores)(delayed(getOMDBdata)(title) for title in oscars)\n",
    "# table = pd.DataFrame(oscars)\n",
    "\n",
    "# table['Title'] = np.array(Others)\n",
    "# table.to_csv('../R/others_omdb.csv',encoding= 'utf-8',na_rep='', header= True, index= False, index_label= False)"
   ]
  },
  {
   "cell_type": "code",
   "execution_count": 5,
   "metadata": {},
   "outputs": [
    {
     "name": "stdout",
     "output_type": "stream",
     "text": [
      "Moonlight (2016)\n",
      "Spotlight\n",
      "Birdman\n",
      "12 Years a Slave\n",
      "Argo\n",
      "The Artist\n",
      "The King's Speech\n",
      "The Hurt Locker\n",
      "Slumdog Millionaire\n",
      "No Country for Old Men\n",
      "The Departed\n",
      "Crash\n",
      "Million Dollar Baby\n",
      "The Lord of the Rings: The Return of the King\n",
      "Chicago\n",
      "A Beautiful Mind\n",
      "Gladiator\n",
      "American Beauty\n",
      "Shakespeare in Love\n",
      "Titanic\n",
      "The English Patient\n",
      "Braveheart\n",
      "Forrest Gump\n",
      "Schindler's List\n",
      "Unforgiven\n",
      "The Silence of the Lambs\n",
      "Dances with Wolves\n",
      "Driving Miss Daisy\n",
      "Rain Man\n",
      "The Last Emperor\n",
      "Platoon\n",
      "Out of Africa\n",
      "Amadeus\n",
      "Terms of Endearment\n",
      "Gandhi\n",
      "Chariots of Fire\n",
      "Ordinary People\n",
      "Kramer Vs. Kramer\n",
      "The Deer Hunter\n"
     ]
    }
   ],
   "source": [
    "for oscar in oscars: print oscar"
   ]
  }
 ],
 "metadata": {
  "kernelspec": {
   "display_name": "Python 2",
   "language": "python",
   "name": "python2"
  },
  "language_info": {
   "codemirror_mode": {
    "name": "ipython",
    "version": 2
   },
   "file_extension": ".py",
   "mimetype": "text/x-python",
   "name": "python",
   "nbconvert_exporter": "python",
   "pygments_lexer": "ipython2",
   "version": "2.7.13"
  }
 },
 "nbformat": 4,
 "nbformat_minor": 1
}
