{
 "cells": [
  {
   "cell_type": "code",
   "execution_count": 1,
   "metadata": {},
   "outputs": [],
   "source": [
    "import urllib2\n",
    "import warnings\n",
    "warnings.filterwarnings('ignore')\n",
    "\n",
    "import simplejson as json\n",
    "import ujson\n",
    "import numpy as np\n",
    "import pandas as pd"
   ]
  },
  {
   "cell_type": "code",
   "execution_count": 2,
   "metadata": {
    "collapsed": true
   },
   "outputs": [],
   "source": [
    "def fetchAPIdata(movie):\n",
    "    \n",
    "    if movie == \"Moonlight (2016)\":\n",
    "        movie = \"Moonlight\"\n",
    "    \n",
    "    if movie == \"Kramer Vs. Kramer\":\n",
    "        movie = \"Kramer Vs Kramer\"\n",
    "    \n",
    "    if movie == \"Birdman\":\n",
    "        url = 'http://www.omdbapi.com/?t={}&y=2014'.format(movie)\n",
    "        return(ujson.loads(urllib2.urlopen(url).read()))\n",
    "    \n",
    "    movie = \"+\".join((movie.split(\" \")))\n",
    "    url = 'http://www.omdbapi.com/?t={}'.format(movie)\n",
    "    \n",
    "    movie = ujson.loads(urllib2.urlopen(url).read())\n",
    "    \n",
    "    \n",
    "    return(movie)"
   ]
  },
  {
   "cell_type": "code",
   "execution_count": 3,
   "metadata": {},
   "outputs": [],
   "source": [
    "oscars = pd.DataFrame([fetchAPIdata(movie) for movie in pd.read_csv(\"oscars_bom.csv\")['MOVIE']])\n",
    "oscars['rotten'] = np.array([critic[1]['Value'].split(\"%\")[0] for critic in oscars['Ratings']])\n",
    "del oscars['Ratings']\n",
    "oscars.to_csv(\"oscars_omdb.csv\", encoding ='utf-8')\n",
    "del oscars"
   ]
  },
  {
   "cell_type": "code",
   "execution_count": null,
   "metadata": {
    "collapsed": true
   },
   "outputs": [],
   "source": []
  }
 ],
 "metadata": {
  "kernelspec": {
   "display_name": "Python 2",
   "language": "python",
   "name": "python2"
  },
  "language_info": {
   "codemirror_mode": {
    "name": "ipython",
    "version": 2
   },
   "file_extension": ".py",
   "mimetype": "text/x-python",
   "name": "python",
   "nbconvert_exporter": "python",
   "pygments_lexer": "ipython2",
   "version": "2.7.13"
  }
 },
 "nbformat": 4,
 "nbformat_minor": 1
}
